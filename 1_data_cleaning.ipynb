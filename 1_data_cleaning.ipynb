{
 "cells": [
  {
   "cell_type": "code",
   "execution_count": 11,
   "metadata": {},
   "outputs": [],
   "source": [
    "import pandas as pd"
   ]
  },
  {
   "cell_type": "code",
   "execution_count": 12,
   "metadata": {},
   "outputs": [],
   "source": [
    "path = 'C:/Users/tigra/Desktop/ds_salary_proj/assets/'\n",
    "df = pd.read_csv(f\"{path}glassdoor_jobs.csv\")"
   ]
  },
  {
   "cell_type": "markdown",
   "metadata": {},
   "source": [
    "#### As the `Salary Estimate` is a string containing values like `$112K-$133K (Glassdoor est.)`, below I am parsing minimum, maximum, and average salaries."
   ]
  },
  {
   "cell_type": "code",
   "execution_count": 3,
   "metadata": {},
   "outputs": [],
   "source": [
    "salary = df['Salary Estimate'].apply(lambda x: x.split('(')[0])\n",
    "minus_kd = salary.apply(lambda x: x.replace('K', '').replace('$', ''))\n",
    "df['min_salary'] = minus_kd.apply(lambda x: int(x.split('-')[0]))\n",
    "df['max_salary'] = minus_kd.apply(lambda x: int(x.split('-')[1]))\n",
    "df['avg_salary'] = (df.min_salary + df.max_salary) / 2"
   ]
  },
  {
   "cell_type": "markdown",
   "metadata": {},
   "source": [
    "#### The `Company Name` contains the name and the rating (e.g. `Cytracom 5.0`). Since we already have the rating data in `Rating`, I have parsed the company name into `company_txt` and ignored the rating."
   ]
  },
  {
   "cell_type": "code",
   "execution_count": 24,
   "metadata": {},
   "outputs": [],
   "source": [
    "df['company_txt'] = df.apply(lambda x: x['Company Name'] if x['Rating'] == -1 else x['Company Name'][:-4], axis = 1)"
   ]
  },
  {
   "cell_type": "markdown",
   "metadata": {},
   "source": [
    "#### Parsing job state from `Location` (e.g. `Allen, TX`)."
   ]
  },
  {
   "cell_type": "code",
   "execution_count": 25,
   "metadata": {},
   "outputs": [],
   "source": [
    "df['job_state'] = df['Location'].apply(lambda x: x.split(', ')[1] if ',' in x else 'na')"
   ]
  },
  {
   "cell_type": "markdown",
   "metadata": {},
   "source": [
    "#### Comparing `Location` and `Headquarters`, and creating the column `same_state` which indicates if the position is at Headquarters (`1`)."
   ]
  },
  {
   "cell_type": "code",
   "execution_count": 15,
   "metadata": {},
   "outputs": [],
   "source": [
    "df['same_state'] = df.apply(lambda x: 1 if x.Location == x.Headquarters else 0, axis = 1)"
   ]
  },
  {
   "cell_type": "markdown",
   "metadata": {},
   "source": [
    "#### Calculating the `age` of the company based on `Founded` year."
   ]
  },
  {
   "cell_type": "code",
   "execution_count": 23,
   "metadata": {},
   "outputs": [],
   "source": [
    "df['age'] = df.Founded.apply(lambda x: x if x == -1 else 2020 - x)"
   ]
  },
  {
   "cell_type": "markdown",
   "metadata": {},
   "source": [
    "#### Parsing a bunch of skills and key words from `Job Description`, such as `python`, `r`, `sql`, etc. It's also important to know what's the simplified title of the position (`def title_simplifier...`), as well as the seniority level (`def seniority...`). "
   ]
  },
  {
   "cell_type": "code",
   "execution_count": 8,
   "metadata": {},
   "outputs": [],
   "source": [
    "df['python'] = df['Job Description'].apply(lambda x: 1 if 'python' in x.lower() else 0)\n",
    "df['r'] = df['Job Description'].apply(lambda x: 1 if ' r ' in x.lower() else 0)\n",
    "df['sql'] = df['Job Description'].apply(lambda x: 1 if 'sql' in x.lower() else 0)\n",
    "df['spark'] = df['Job Description'].apply(lambda x: 1 if 'spark' in x.lower() else 0)\n",
    "df['aws'] = df['Job Description'].apply(lambda x: 1 if ' aws ' in x.lower() else 0)\n",
    "df['hadoop'] = df['Job Description'].apply(lambda x: 1 if 'hadoop' in x.lower() else 0)\n",
    "df['apache'] = df['Job Description'].apply(lambda x: 1 if 'apache' in x.lower() else 0)\n",
    "df['sas'] = df['Job Description'].apply(lambda x: 1 if 'sas' in x.lower() else 0)\n",
    "df['excel'] = df['Job Description'].apply(lambda x: 1 if 'excel' in x.lower() else 0)\n",
    "df['paid_vac'] = df['Job Description'].apply(lambda x: 1 if 'paid vacation' in x.lower() or 'paid holiday' in x.lower() else 0)\n",
    "df['ab'] = df['Job Description'].apply(lambda x: 1 if 'a/b testing' in x.lower() else 0)\n",
    "df['agile'] = df['Job Description'].apply(lambda x: 1 if 'agile' in x.lower() else 0)\n",
    "df['phd'] = df['Job Description'].apply(lambda x: 1 if 'phd' in x.lower() else 0)"
   ]
  },
  {
   "cell_type": "code",
   "execution_count": 9,
   "metadata": {},
   "outputs": [],
   "source": [
    "def title_simplifier(title):\n",
    "    if 'manager' in title.lower() or 'chief' in title.lower() or 'director' in title.lower() or 'vp' in title.lower() or 'principal' in title.lower():\n",
    "        return 'manager'\n",
    "    if 'analyst' in title.lower():\n",
    "        return 'analyst'\n",
    "    elif 'data engineer' in title.lower():\n",
    "        return 'data engineer'\n",
    "    elif 'analyst' in title.lower():\n",
    "        return 'analyst'\n",
    "    elif 'machine learning' in title.lower() or 'ai' in title.lower() or 'artificial intelligence' in title.lower() or 'deep' in title.lower():\n",
    "        return 'mle/ai'\n",
    "    elif 'data scientist' in title.lower():\n",
    "        return 'data scientist'\n",
    "    else:\n",
    "        return 'na'\n",
    "\n",
    "def seniority(title):\n",
    "    if 'sr' in title.lower() or 'senior' in title.lower() or 'manager' in title.lower() or 'lead' in title.lower() or 'chief' in title.lower() or 'director' in title.lower() or 'vp' in title.lower() or 'principal' in title.lower():\n",
    "        return 'senior'\n",
    "    elif 'jr' in title.lower() or 'junior' in title.lower() or 'early' in title.lower():\n",
    "        return 'jr'\n",
    "    else:\n",
    "        return 'na'"
   ]
  },
  {
   "cell_type": "code",
   "execution_count": 10,
   "metadata": {},
   "outputs": [
    {
     "data": {
      "text/plain": [
       "data scientist    1897\n",
       "mle/ai              59\n",
       "manager             38\n",
       "analyst              5\n",
       "data engineer        1\n",
       "Name: job_simp, dtype: int64"
      ]
     },
     "execution_count": 10,
     "metadata": {},
     "output_type": "execute_result"
    }
   ],
   "source": [
    "df['job_simp'] = df['Job Title'].apply(title_simplifier)\n",
    "df.job_simp.value_counts()"
   ]
  },
  {
   "cell_type": "code",
   "execution_count": 11,
   "metadata": {},
   "outputs": [
    {
     "data": {
      "text/plain": [
       "na        1308\n",
       "senior     690\n",
       "jr           2\n",
       "Name: seniority, dtype: int64"
      ]
     },
     "execution_count": 11,
     "metadata": {},
     "output_type": "execute_result"
    }
   ],
   "source": [
    "df['seniority'] = df['Job Title'].apply(seniority)\n",
    "df.seniority.value_counts()"
   ]
  },
  {
   "cell_type": "markdown",
   "metadata": {},
   "source": [
    "#### Checking for null values. There is only one null value in `Company Name` which I fill with 0."
   ]
  },
  {
   "cell_type": "code",
   "execution_count": 18,
   "metadata": {
    "scrolled": false
   },
   "outputs": [
    {
     "data": {
      "text/plain": [
       "Job Title            0\n",
       "Salary Estimate      0\n",
       "Job Description      0\n",
       "Rating               0\n",
       "Company Name         1\n",
       "Location             0\n",
       "Headquarters         0\n",
       "Size                 0\n",
       "Founded              0\n",
       "Type of ownership    0\n",
       "Industry             0\n",
       "Sector               0\n",
       "Revenue              0\n",
       "Competitors          0\n",
       "job_state            0\n",
       "same_state           0\n",
       "dtype: int64"
      ]
     },
     "execution_count": 18,
     "metadata": {},
     "output_type": "execute_result"
    }
   ],
   "source": [
    "df.isnull().sum()"
   ]
  },
  {
   "cell_type": "code",
   "execution_count": 19,
   "metadata": {},
   "outputs": [],
   "source": [
    "df = df.fillna(0)"
   ]
  },
  {
   "cell_type": "markdown",
   "metadata": {},
   "source": [
    "#### Additionally I parse the `Job Description` length and save it in `desc_leng`, as well as the number of competitors of the company (`num_comp`). These values might be significant in my model and I will explore more about that in my EDA."
   ]
  },
  {
   "cell_type": "code",
   "execution_count": 20,
   "metadata": {},
   "outputs": [],
   "source": [
    "df['desc_leng'] = df['Job Description'].apply(lambda x: len(x))"
   ]
  },
  {
   "cell_type": "code",
   "execution_count": 21,
   "metadata": {},
   "outputs": [],
   "source": [
    "df['num_comp'] = df['Competitors'].apply(lambda x: len(x.split(','))if x != '-1' else 0)"
   ]
  },
  {
   "cell_type": "markdown",
   "metadata": {},
   "source": [
    "#### Last but not least, saving the cleand dataset as `glassdoor_jobs_cleaned.csv`."
   ]
  },
  {
   "cell_type": "code",
   "execution_count": 16,
   "metadata": {},
   "outputs": [],
   "source": [
    "# saving the ds as csv\n",
    "df.to_csv('glassdoor_jobs_cleaned.csv', index = False)"
   ]
  }
 ],
 "metadata": {
  "kernelspec": {
   "display_name": "Python 3",
   "language": "python",
   "name": "python3"
  },
  "language_info": {
   "codemirror_mode": {
    "name": "ipython",
    "version": 3
   },
   "file_extension": ".py",
   "mimetype": "text/x-python",
   "name": "python",
   "nbconvert_exporter": "python",
   "pygments_lexer": "ipython3",
   "version": "3.7.6"
  }
 },
 "nbformat": 4,
 "nbformat_minor": 4
}
