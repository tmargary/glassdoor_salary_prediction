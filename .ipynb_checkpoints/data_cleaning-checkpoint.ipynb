{
 "cells": [
  {
   "cell_type": "code",
   "execution_count": 2,
   "metadata": {},
   "outputs": [],
   "source": [
    "import pandas as pd"
   ]
  },
  {
   "cell_type": "code",
   "execution_count": 3,
   "metadata": {},
   "outputs": [],
   "source": [
    "df = pd.read_csv('glassdoor_jobs.csv')"
   ]
  },
  {
   "cell_type": "code",
   "execution_count": 4,
   "metadata": {},
   "outputs": [],
   "source": [
    "# parsing min, max and avg salaries\n",
    "salary = df['Salary Estimate'].apply(lambda x: x.split('(')[0])\n",
    "minus_kd = salary.apply(lambda x: x.replace('K', '').replace('$', ''))\n",
    "df['min_salary'] = minus_kd.apply(lambda x: int(x.split('-')[0]))\n",
    "df['max_salary'] = minus_kd.apply(lambda x: int(x.split('-')[1]))\n",
    "df['avg_salary'] = (df.min_salary + df.max_salary) / 2"
   ]
  },
  {
   "cell_type": "code",
   "execution_count": 5,
   "metadata": {},
   "outputs": [],
   "source": [
    "# Deleting rating from the name of those companies which have rating other than -1\n",
    "df['company_txt'] = df.apply(lambda x: x['Company Name'] if x['Rating'] == -1 else x['Company Name'][:-4], axis = 1)"
   ]
  },
  {
   "cell_type": "code",
   "execution_count": 6,
   "metadata": {},
   "outputs": [
    {
     "data": {
      "text/plain": [
       "CA    352\n",
       "VA    196\n",
       "NY    165\n",
       "IL    147\n",
       "na    140\n",
       "WA    129\n",
       "NJ    124\n",
       "MA     93\n",
       "CT     78\n",
       "DC     73\n",
       "MD     71\n",
       "OH     55\n",
       "CO     51\n",
       "FL     50\n",
       "GA     46\n",
       "NC     45\n",
       "TX     43\n",
       "MN     42\n",
       "TN     12\n",
       "MO     10\n",
       "AL     10\n",
       "WI      9\n",
       "MI      8\n",
       "UT      7\n",
       "PA      7\n",
       "AZ      7\n",
       "OR      6\n",
       "RI      4\n",
       "SC      4\n",
       "NH      4\n",
       "IN      3\n",
       "HI      3\n",
       "AR      2\n",
       "IA      1\n",
       "KS      1\n",
       "NM      1\n",
       "WV      1\n",
       "Name: job_state, dtype: int64"
      ]
     },
     "execution_count": 6,
     "metadata": {},
     "output_type": "execute_result"
    }
   ],
   "source": [
    "# parsing job state from location\n",
    "df['job_state'] = df['Location'].apply(lambda x: x.split(', ')[1] if ',' in x else 'na')\n",
    "df.job_state.value_counts()"
   ]
  },
  {
   "cell_type": "code",
   "execution_count": 7,
   "metadata": {},
   "outputs": [],
   "source": [
    "# same_state 0 or 1 (location vs headquarters)\n",
    "df['same_state'] = df.apply(lambda x: 1 if x.Location == x.Headquarters else 0, axis = 1)"
   ]
  },
  {
   "cell_type": "code",
   "execution_count": 8,
   "metadata": {},
   "outputs": [],
   "source": [
    "# calculating age of the company\n",
    "df['age'] = df.Founded.apply(lambda x: x if x == -1 else 2020 - x)"
   ]
  },
  {
   "cell_type": "code",
   "execution_count": 24,
   "metadata": {},
   "outputs": [],
   "source": [
    "# parsing skills from job despcription\n",
    "df['python'] = df['Job Description'].apply(lambda x: 1 if 'python' in x.lower() else 0)\n",
    "df['r'] = df['Job Description'].apply(lambda x: 1 if ' r ' in x.lower() else 0)\n",
    "df['sql'] = df['Job Description'].apply(lambda x: 1 if 'sql' in x.lower() else 0)\n",
    "df['spark'] = df['Job Description'].apply(lambda x: 1 if 'spark' in x.lower() else 0)\n",
    "df['aws'] = df['Job Description'].apply(lambda x: 1 if ' aws ' in x.lower() else 0)\n",
    "df['hadoop'] = df['Job Description'].apply(lambda x: 1 if 'hadoop' in x.lower() else 0)\n",
    "df['apache'] = df['Job Description'].apply(lambda x: 1 if 'apache' in x.lower() else 0)\n",
    "df['sas'] = df['Job Description'].apply(lambda x: 1 if 'sas' in x.lower() else 0)\n",
    "df['excel'] = df['Job Description'].apply(lambda x: 1 if 'excel' in x.lower() else 0)\n",
    "df['paid_vac'] = df['Job Description'].apply(lambda x: 1 if 'paid vacation' in x.lower() or 'paid holiday' in x.lower() else 0)\n",
    "df['ab'] = df['Job Description'].apply(lambda x: 1 if 'a/b testing' in x.lower() else 0)\n",
    "df['agile'] = df['Job Description'].apply(lambda x: 1 if 'agile' in x.lower() else 0)\n",
    "df['phd'] = df['Job Description'].apply(lambda x: 1 if 'phd' in x.lower() else 0)"
   ]
  },
  {
   "cell_type": "code",
   "execution_count": 25,
   "metadata": {},
   "outputs": [],
   "source": [
    "def title_simplifier(title):\n",
    "    if 'manager' in title.lower() or 'chief' in title.lower() or 'director' in title.lower() or 'vp' in title.lower() or 'principal' in title.lower():\n",
    "        return 'manager'\n",
    "    if 'analyst' in title.lower():\n",
    "        return 'analyst'\n",
    "    elif 'data engineer' in title.lower():\n",
    "        return 'data engineer'\n",
    "    elif 'analyst' in title.lower():\n",
    "        return 'analyst'\n",
    "    elif 'machine learning' in title.lower() or 'ai' in title.lower() or 'artificial intelligence' in title.lower() or 'deep' in title.lower():\n",
    "        return 'mle/ai'\n",
    "    elif 'data scientist' in title.lower():\n",
    "        return 'data scientist'\n",
    "    else:\n",
    "        return 'na'\n",
    "\n",
    "def seniority(title):\n",
    "    if 'sr' in title.lower() or 'senior' in title.lower() or 'manager' in title.lower() or 'lead' in title.lower() or 'chief' in title.lower() or 'director' in title.lower() or 'vp' in title.lower() or 'principal' in title.lower():\n",
    "        return 'senior'\n",
    "    elif 'jr' in title.lower() or 'junior' in title.lower() or 'early' in title.lower():\n",
    "        return 'jr'\n",
    "    else:\n",
    "        return 'na'"
   ]
  },
  {
   "cell_type": "code",
   "execution_count": 26,
   "metadata": {},
   "outputs": [
    {
     "data": {
      "text/plain": [
       "data scientist    1897\n",
       "mle/ai              59\n",
       "manager             38\n",
       "analyst              5\n",
       "data engineer        1\n",
       "Name: job_simp, dtype: int64"
      ]
     },
     "execution_count": 26,
     "metadata": {},
     "output_type": "execute_result"
    }
   ],
   "source": [
    "df['job_simp'] = df['Job Title'].apply(title_simplifier)\n",
    "df.job_simp.value_counts()"
   ]
  },
  {
   "cell_type": "code",
   "execution_count": 27,
   "metadata": {},
   "outputs": [
    {
     "data": {
      "text/plain": [
       "na        1308\n",
       "senior     690\n",
       "jr           2\n",
       "Name: seniority, dtype: int64"
      ]
     },
     "execution_count": 27,
     "metadata": {},
     "output_type": "execute_result"
    }
   ],
   "source": [
    "df['seniority'] = df['Job Title'].apply(seniority)\n",
    "df.seniority.value_counts()"
   ]
  },
  {
   "cell_type": "code",
   "execution_count": 28,
   "metadata": {
    "scrolled": false
   },
   "outputs": [
    {
     "data": {
      "text/plain": [
       "Job Title            0\n",
       "Salary Estimate      0\n",
       "Job Description      0\n",
       "Rating               0\n",
       "Company Name         0\n",
       "Location             0\n",
       "Headquarters         0\n",
       "Size                 0\n",
       "Founded              0\n",
       "Type of ownership    0\n",
       "Industry             0\n",
       "Sector               0\n",
       "Revenue              0\n",
       "Competitors          0\n",
       "min_salary           0\n",
       "max_salary           0\n",
       "avg_salary           0\n",
       "company_txt          0\n",
       "job_state            0\n",
       "same_state           0\n",
       "age                  0\n",
       "python               0\n",
       "r                    0\n",
       "spark                0\n",
       "aws                  0\n",
       "hadoop               0\n",
       "apache               0\n",
       "sas                  0\n",
       "excel                0\n",
       "job_simp             0\n",
       "seniority            0\n",
       "paid_vac             0\n",
       "ab                   0\n",
       "agile                0\n",
       "phd                  0\n",
       "sql                  0\n",
       "dtype: int64"
      ]
     },
     "execution_count": 28,
     "metadata": {},
     "output_type": "execute_result"
    }
   ],
   "source": [
    "df.isnull().sum()"
   ]
  },
  {
   "cell_type": "code",
   "execution_count": 29,
   "metadata": {},
   "outputs": [],
   "source": [
    "df = df.fillna(0)"
   ]
  },
  {
   "cell_type": "code",
   "execution_count": 30,
   "metadata": {},
   "outputs": [],
   "source": [
    "df['desc_leng'] = df['Job Description'].apply(lambda x: len(x))"
   ]
  },
  {
   "cell_type": "code",
   "execution_count": 31,
   "metadata": {},
   "outputs": [],
   "source": [
    "df['num_comp'] = df['Competitors'].apply(lambda x: len(x.split(','))if x != '-1' else 0)"
   ]
  },
  {
   "cell_type": "code",
   "execution_count": 32,
   "metadata": {},
   "outputs": [],
   "source": [
    "# saving the ds as csv\n",
    "df.to_csv('glassdoor_jobs_cleaned.csv', index = False)"
   ]
  }
 ],
 "metadata": {
  "kernelspec": {
   "display_name": "Python 3",
   "language": "python",
   "name": "python3"
  },
  "language_info": {
   "codemirror_mode": {
    "name": "ipython",
    "version": 3
   },
   "file_extension": ".py",
   "mimetype": "text/x-python",
   "name": "python",
   "nbconvert_exporter": "python",
   "pygments_lexer": "ipython3",
   "version": "3.7.6"
  }
 },
 "nbformat": 4,
 "nbformat_minor": 4
}
